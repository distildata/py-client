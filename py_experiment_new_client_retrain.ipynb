{
 "cells": [
  {
   "cell_type": "markdown",
   "metadata": {},
   "source": [
    "# Driverless AI Python Client"
   ]
  },
  {
   "cell_type": "markdown",
   "metadata": {},
   "source": [
    "## Connecting to a Server"
   ]
  },
  {
   "cell_type": "code",
   "execution_count": 1,
   "metadata": {},
   "outputs": [],
   "source": [
    "import driverlessai\n",
    "\n",
    "dai = driverlessai.Client(address='http://54.224.19.104:12345', username='h2oai', password='i-0aca68e376c9de06c')"
   ]
  },
  {
   "cell_type": "markdown",
   "metadata": {},
   "source": [
    "## Loading Data"
   ]
  },
  {
   "cell_type": "code",
   "execution_count": 2,
   "metadata": {},
   "outputs": [
    {
     "name": "stdout",
     "output_type": "stream",
     "text": [
      "Complete 100.00% - [4/4] Computed stats for column C5\n"
     ]
    }
   ],
   "source": [
    "ds = dai.datasets.create(\n",
    "    data='s3://h2o-public-test-data/smalldata/iris/iris.csv',\n",
    "    data_source='s3',\n",
    "    name='iris-getting-started'\n",
    ")"
   ]
  },
  {
   "cell_type": "code",
   "execution_count": 3,
   "metadata": {},
   "outputs": [
    {
     "name": "stdout",
     "output_type": "stream",
     "text": [
      "iris-getting-started | 910985d4-2481-11eb-b868-0242ac110002\n",
      "Columns: ['C1', 'C2', 'C3', 'C4', 'C5']\n",
      "Shape: (150, 5)\n",
      "Head:\n",
      "   C1 |   C2 |   C3 |   C4 | C5\n",
      "------+------+------+------+-------------\n",
      "  5.1 |  3.5 |  1.4 |  0.2 | Iris-setosa\n",
      "  4.9 |  3   |  1.4 |  0.2 | Iris-setosa\n",
      "  4.7 |  3.2 |  1.3 |  0.2 | Iris-setosa\n",
      "  4.6 |  3.1 |  1.5 |  0.2 | Iris-setosa\n",
      "  5   |  3.6 |  1.4 |  0.2 | Iris-setosa\n",
      "Tail:\n",
      "   C1 |   C2 |   C3 |   C4 | C5\n",
      "------+------+------+------+----------------\n",
      "  6.7 |  3   |  5.2 |  2.3 | Iris-virginica\n",
      "  6.3 |  2.5 |  5   |  1.9 | Iris-virginica\n",
      "  6.5 |  3   |  5.2 |  2   | Iris-virginica\n",
      "  6.2 |  3.4 |  5.4 |  2.3 | Iris-virginica\n",
      "  5.9 |  3   |  5.1 |  1.8 | Iris-virginica\n",
      "Summary:\n",
      "--- C1 ---\n",
      "\n",
      " 4.3|███████\n",
      "    |█████████████████\n",
      "    |██████████\n",
      "    |████████████████████\n",
      "    |████████████\n",
      "    |███████████████████\n",
      "    |█████████████\n",
      "    |████\n",
      "    |████\n",
      " 7.9|████\n",
      "\n",
      "Data Type: real\n",
      "Logical Types: []\n",
      "Datetime Format: \n",
      "Count: 150\n",
      "Missing: 0\n",
      "Mean: 5.84\n",
      "SD: 0.828\n",
      "Min: 4.3\n",
      "Max: 7.9\n",
      "Unique: 35\n",
      "Freq: 10\n",
      "--- C2 ---\n",
      "\n",
      "   2|██\n",
      "    |████\n",
      "    |████████████\n",
      "    |█████████████\n",
      "    |████████████████████\n",
      "    |████████████████\n",
      "    |█████\n",
      "    |██████\n",
      "    |█\n",
      " 4.4|█\n",
      "\n",
      "Data Type: real\n",
      "Logical Types: []\n",
      "Datetime Format: \n",
      "Count: 150\n",
      "Missing: 0\n",
      "Mean: 3.05\n",
      "SD: 0.434\n",
      "Min: 2\n",
      "Max: 4.4\n",
      "Unique: 23\n",
      "Freq: 26\n",
      "\n"
     ]
    }
   ],
   "source": [
    "print(ds.name, \"|\", ds.key)\n",
    "print(\"Columns:\", ds.columns)\n",
    "print('Shape:', ds.shape)\n",
    "print(\"Head:\")\n",
    "print(ds.head())\n",
    "print(\"Tail:\")\n",
    "print(ds.tail())\n",
    "print(\"Summary:\")\n",
    "print(ds.column_summaries()[0:2])"
   ]
  },
  {
   "cell_type": "code",
   "execution_count": 4,
   "metadata": {},
   "outputs": [
    {
     "data": {
      "text/plain": [
       "[<class 'driverlessai._datasets.Dataset'> 910985d4-2481-11eb-b868-0242ac110002 iris-getting-started,\n",
       " <class 'driverlessai._datasets.Dataset'> 84db239c-247e-11eb-b868-0242ac110002 suncorp_test,\n",
       " <class 'driverlessai._datasets.Dataset'> 84dad31a-247e-11eb-b868-0242ac110002 suncorp_train,\n",
       " <class 'driverlessai._datasets.Dataset'> 3749a8b0-247e-11eb-b868-0242ac110002 1.CreditCard.csv,\n",
       " <class 'driverlessai._datasets.Dataset'> e94f46f6-247d-11eb-b868-0242ac110002 1.car_insurance_claim,\n",
       " <class 'driverlessai._datasets.Dataset'> 09c97434-23fb-11eb-9966-0242ac110002 car_insurance_claim,\n",
       " <class 'driverlessai._datasets.Dataset'> 8bdc2020-1f05-11eb-a0c2-0242ac110002 CreditCard.csv,\n",
       " <class 'driverlessai._datasets.Dataset'> 7ec45ef4-1efe-11eb-a0c2-0242ac110002 Churn_Test,\n",
       " <class 'driverlessai._datasets.Dataset'> 7ec41b56-1efe-11eb-a0c2-0242ac110002 Churn_Train,\n",
       " <class 'driverlessai._datasets.Dataset'> 61870292-1efe-11eb-a0c2-0242ac110002 Adult_Test,\n",
       " <class 'driverlessai._datasets.Dataset'> 6186b954-1efe-11eb-a0c2-0242ac110002 Adult_Train,\n",
       " <class 'driverlessai._datasets.Dataset'> f1f6893e-1efd-11eb-a0c2-0242ac110002 adult.csv,\n",
       " <class 'driverlessai._datasets.Dataset'> eccb21c2-1efd-11eb-a0c2-0242ac110002 churn.csv]"
      ]
     },
     "execution_count": 4,
     "metadata": {},
     "output_type": "execute_result"
    }
   ],
   "source": [
    "## see the datasets\n",
    "\n",
    "dai.datasets.list()"
   ]
  },
  {
   "cell_type": "code",
   "execution_count": 5,
   "metadata": {},
   "outputs": [
    {
     "name": "stdout",
     "output_type": "stream",
     "text": [
      "Complete\n"
     ]
    }
   ],
   "source": [
    "## split the data\n",
    "\n",
    "ds_split = ds.split_to_train_test(train_size=0.7)"
   ]
  },
  {
   "cell_type": "code",
   "execution_count": 6,
   "metadata": {},
   "outputs": [
    {
     "name": "stdout",
     "output_type": "stream",
     "text": [
      "{'train_dataset': <class 'driverlessai._datasets.Dataset'> 9611f610-2481-11eb-b868-0242ac110002 rolepigo, 'test_dataset': <class 'driverlessai._datasets.Dataset'> 961239d6-2481-11eb-b868-0242ac110002 nofesiga}\n"
     ]
    }
   ],
   "source": [
    "## see split data\n",
    "\n",
    "print(ds_split)"
   ]
  },
  {
   "cell_type": "code",
   "execution_count": 7,
   "metadata": {},
   "outputs": [
    {
     "data": {
      "text/plain": [
       "[<class 'driverlessai._datasets.Dataset'> 961239d6-2481-11eb-b868-0242ac110002 nofesiga,\n",
       " <class 'driverlessai._datasets.Dataset'> 9611f610-2481-11eb-b868-0242ac110002 rolepigo,\n",
       " <class 'driverlessai._datasets.Dataset'> 910985d4-2481-11eb-b868-0242ac110002 iris-getting-started,\n",
       " <class 'driverlessai._datasets.Dataset'> 84db239c-247e-11eb-b868-0242ac110002 suncorp_test,\n",
       " <class 'driverlessai._datasets.Dataset'> 84dad31a-247e-11eb-b868-0242ac110002 suncorp_train,\n",
       " <class 'driverlessai._datasets.Dataset'> 3749a8b0-247e-11eb-b868-0242ac110002 1.CreditCard.csv,\n",
       " <class 'driverlessai._datasets.Dataset'> e94f46f6-247d-11eb-b868-0242ac110002 1.car_insurance_claim,\n",
       " <class 'driverlessai._datasets.Dataset'> 09c97434-23fb-11eb-9966-0242ac110002 car_insurance_claim,\n",
       " <class 'driverlessai._datasets.Dataset'> 8bdc2020-1f05-11eb-a0c2-0242ac110002 CreditCard.csv,\n",
       " <class 'driverlessai._datasets.Dataset'> 7ec45ef4-1efe-11eb-a0c2-0242ac110002 Churn_Test,\n",
       " <class 'driverlessai._datasets.Dataset'> 7ec41b56-1efe-11eb-a0c2-0242ac110002 Churn_Train,\n",
       " <class 'driverlessai._datasets.Dataset'> 61870292-1efe-11eb-a0c2-0242ac110002 Adult_Test,\n",
       " <class 'driverlessai._datasets.Dataset'> 6186b954-1efe-11eb-a0c2-0242ac110002 Adult_Train,\n",
       " <class 'driverlessai._datasets.Dataset'> f1f6893e-1efd-11eb-a0c2-0242ac110002 adult.csv,\n",
       " <class 'driverlessai._datasets.Dataset'> eccb21c2-1efd-11eb-a0c2-0242ac110002 churn.csv]"
      ]
     },
     "execution_count": 7,
     "metadata": {},
     "output_type": "execute_result"
    }
   ],
   "source": [
    "## list and see the split in DAI datasets\n",
    "\n",
    "dai.datasets.list()\n"
   ]
  },
  {
   "cell_type": "markdown",
   "metadata": {},
   "source": [
    "## Running an Experiment"
   ]
  },
  {
   "cell_type": "code",
   "execution_count": 8,
   "metadata": {},
   "outputs": [],
   "source": [
    "settings = {\n",
    "    'task': 'classification',\n",
    "    'target_column': ds.columns[-1],\n",
    "    'accuracy': 1,\n",
    "    'time': 1,\n",
    "    'interpretability': 6\n",
    "}"
   ]
  },
  {
   "cell_type": "code",
   "execution_count": 9,
   "metadata": {},
   "outputs": [
    {
     "name": "stdout",
     "output_type": "stream",
     "text": [
      "ACCURACY [1/10]:\n",
      "- Training data size: *105 rows, 5 cols*\n",
      "- Feature evolution: *[Constant, GLM, LightGBM, XGBoostGBM]*, *1/4 validation split*\n",
      "- Final pipeline: *One of [Constant, GLM, LightGBM, XGBoostGBM], single final model, validated with 4-fold CV*\n",
      "\n",
      "TIME [1/10]:\n",
      "- Feature evolution: *2 individuals*, up to *3 iterations*\n",
      "- Early stopping: disabled\n",
      "\n",
      "INTERPRETABILITY [6/10]:\n",
      "- Feature pre-pruning strategy: None\n",
      "- Monotonicity constraints: disabled\n",
      "- Feature engineering search space: [CVCatNumEncode, CVTargetEncode, CatOriginal, Cat, ClusterTE, Frequent, Interactions, NumCatTE, NumToCatTE, OneHotEncoding, Original, TextOriginal, Text]\n",
      "\n",
      "[Constant, GLM, LightGBM, XGBoostGBM] models to train:\n",
      "- Model and feature tuning: *2*\n",
      "- Feature evolution: *3*\n",
      "- Final pipeline: *9*\n",
      "\n",
      "Estimated runtime: *minutes*\n",
      "Auto-click Finish/Abort if not done in: *1 day*/*7 days*\n"
     ]
    }
   ],
   "source": [
    "dai.experiments.preview(**ds_split, **settings)"
   ]
  },
  {
   "cell_type": "code",
   "execution_count": 10,
   "metadata": {},
   "outputs": [
    {
     "name": "stdout",
     "output_type": "stream",
     "text": [
      "Experiment launched at: http://54.224.19.104:12345/#/experiment?key=9df2a3a2-2481-11eb-b868-0242ac110002\n",
      "Complete 100.00% - Status: Complete                                             \n"
     ]
    }
   ],
   "source": [
    "ex = dai.experiments.create(**ds_split, **settings, name='iris-getting-started')"
   ]
  },
  {
   "cell_type": "code",
   "execution_count": 11,
   "metadata": {},
   "outputs": [
    {
     "name": "stdout",
     "output_type": "stream",
     "text": [
      "Status: Complete\n",
      "Variable Importance:\n",
      "  1.00 | 2_C3 | C3 (Original)\n",
      "  0.08 | 0_C1 | C1 (Original)\n"
     ]
    }
   ],
   "source": [
    "ex.summary()"
   ]
  },
  {
   "cell_type": "code",
   "execution_count": 12,
   "metadata": {},
   "outputs": [],
   "source": [
    "# Download experiment artifacts\n",
    "# artifacts = ex.artifacts.download(overwrite=True)"
   ]
  },
  {
   "cell_type": "code",
   "execution_count": 13,
   "metadata": {
    "scrolled": true
   },
   "outputs": [
    {
     "ename": "NameError",
     "evalue": "name 'artifacts' is not defined",
     "output_type": "error",
     "traceback": [
      "\u001b[0;31m---------------------------------------------------------------------------\u001b[0m",
      "\u001b[0;31mNameError\u001b[0m                                 Traceback (most recent call last)",
      "\u001b[0;32m<ipython-input-13-6649397d9658>\u001b[0m in \u001b[0;36m<module>\u001b[0;34m\u001b[0m\n\u001b[1;32m      1\u001b[0m \u001b[0;32mimport\u001b[0m \u001b[0mpandas\u001b[0m \u001b[0;32mas\u001b[0m \u001b[0mpd\u001b[0m\u001b[0;34m\u001b[0m\u001b[0;34m\u001b[0m\u001b[0m\n\u001b[1;32m      2\u001b[0m \u001b[0;34m\u001b[0m\u001b[0m\n\u001b[0;32m----> 3\u001b[0;31m \u001b[0mpd\u001b[0m\u001b[0;34m.\u001b[0m\u001b[0mread_csv\u001b[0m\u001b[0;34m(\u001b[0m\u001b[0martifacts\u001b[0m\u001b[0;34m[\u001b[0m\u001b[0;34m'test_predictions'\u001b[0m\u001b[0;34m]\u001b[0m\u001b[0;34m)\u001b[0m\u001b[0;34m.\u001b[0m\u001b[0mhead\u001b[0m\u001b[0;34m(\u001b[0m\u001b[0;34m)\u001b[0m\u001b[0;34m\u001b[0m\u001b[0;34m\u001b[0m\u001b[0m\n\u001b[0m",
      "\u001b[0;31mNameError\u001b[0m: name 'artifacts' is not defined"
     ]
    }
   ],
   "source": [
    "import pandas as pd\n",
    "\n",
    "pd.read_csv(artifacts['test_predictions']).head()"
   ]
  },
  {
   "cell_type": "markdown",
   "metadata": {},
   "source": [
    "## Retrain"
   ]
  },
  {
   "cell_type": "code",
   "execution_count": 14,
   "metadata": {},
   "outputs": [
    {
     "name": "stdout",
     "output_type": "stream",
     "text": [
      "Complete 100.00% - [4/4] Computed stats for column C5\n"
     ]
    }
   ],
   "source": [
    "# We’ll load some new data we want to use to retrain the model.\n",
    "\n",
    "ds = dai.datasets.create(data='s3://h2o-public-test-data/smalldata/iris/iris.csv', data_source='s3', name='new_iris')"
   ]
  },
  {
   "cell_type": "code",
   "execution_count": 15,
   "metadata": {},
   "outputs": [],
   "source": [
    "# Then we get the most recent version of an experiment with ‘iris’ in the name.\n",
    "\n",
    "ex = [ex for ex in dai.experiments.list() if 'iris' in ex.name][0]"
   ]
  },
  {
   "cell_type": "code",
   "execution_count": 16,
   "metadata": {},
   "outputs": [
    {
     "name": "stdout",
     "output_type": "stream",
     "text": [
      "Experiment launched at: http://54.224.19.104:12345/#/experiment?key=eed342ea-2481-11eb-b868-0242ac110002\n",
      "Complete 100.00% - Status: Complete                            \n"
     ]
    }
   ],
   "source": [
    "# Finally, we’ll use the experiment’s retrain() method with final_pipeline_only=True to retrain the model.\n",
    "\n",
    "rex = ex.retrain(train_dataset=ds, final_pipeline_only=True)"
   ]
  },
  {
   "cell_type": "code",
   "execution_count": 17,
   "metadata": {},
   "outputs": [
    {
     "data": {
      "text/plain": [
       "{'scorer': 'LOGLOSS',\n",
       " 'val_score': 0.1366218742635101,\n",
       " 'val_score_sd': 0.01760172758962579,\n",
       " 'val_roc_auc': 0.9972888888888889,\n",
       " 'val_pr_auc': 0.9947561049891215,\n",
       " 'test_score': 0.12982634355883219,\n",
       " 'test_score_sd': 0.030424625968068473,\n",
       " 'test_roc_auc': 0.9975308641975308,\n",
       " 'test_pr_auc': 0.9952630511401511}"
      ]
     },
     "execution_count": 17,
     "metadata": {},
     "output_type": "execute_result"
    }
   ],
   "source": [
    "# retrain metrics\n",
    "\n",
    "rex.metrics()"
   ]
  },
  {
   "cell_type": "code",
   "execution_count": 18,
   "metadata": {},
   "outputs": [
    {
     "data": {
      "text/plain": [
       "{'scorer': 'LOGLOSS',\n",
       " 'val_score': 0.14438122323938712,\n",
       " 'val_score_sd': 0.027908889448031368,\n",
       " 'val_roc_auc': 0.9960090702947845,\n",
       " 'val_pr_auc': 0.9923343887497431,\n",
       " 'test_score': 0.1322335646306682,\n",
       " 'test_score_sd': 0.022273450677513965,\n",
       " 'test_roc_auc': 0.9982716049382716,\n",
       " 'test_pr_auc': 0.9966702675119065}"
      ]
     },
     "execution_count": 18,
     "metadata": {},
     "output_type": "execute_result"
    }
   ],
   "source": [
    "# original metrics\n",
    "\n",
    "ex.metrics()"
   ]
  }
 ],
 "metadata": {
  "kernelspec": {
   "display_name": "Python 3",
   "language": "python",
   "name": "python3"
  },
  "language_info": {
   "codemirror_mode": {
    "name": "ipython",
    "version": 3
   },
   "file_extension": ".py",
   "mimetype": "text/x-python",
   "name": "python",
   "nbconvert_exporter": "python",
   "pygments_lexer": "ipython3",
   "version": "3.8.3"
  }
 },
 "nbformat": 4,
 "nbformat_minor": 2
}
